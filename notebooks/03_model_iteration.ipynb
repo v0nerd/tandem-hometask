{
 "cells": [
  {
   "cell_type": "markdown",
   "metadata": {},
   "source": [
    "# Model Iteration\n",
    "\n",
    "This notebook iterates on the baseline model by applying LoRA and QLoRA fine-tuning techniques to improve performance and efficiency.\n",
    "\n",
    "## Objectives\n",
    "- Fine-tune the model using LoRA and QLoRA.\n",
    "- Compare performance across model versions.\n",
    "- Save improved model checkpoints.\n",
    "- Document improvements and findings.\n",
    "\n",
    "## Setup\n",
    "Ensure the environment is set up with GPU support and the necessary dependencies installed."
   ]
  },
  {
   "cell_type": "code",
   "execution_count": null,
   "metadata": {},
   "outputs": [],
   "source": [
    "import sys\n",
    "import os\n",
    "from pathlib import Path\n",
    "\n",
    "# Add src to path\n",
    "sys.path.append(str(Path.cwd().parent / 'src'))\n",
    "\n",
    "import torch\n",
    "from transformers import AutoModelForCausalLM, AutoTokenizer, TrainingArguments, Trainer\n",
    "from peft import LoraConfig, get_peft_model\n",
    "from datasets import load_dataset\n",
    "from utils.config import load_config\n",
    "import logging\n",
    "\n",
    "# Setup logging\n",
    "logging.basicConfig(level=logging.INFO, format='%(asctime)s - %(name)s - %(levelname)s - %(message)s')\n",
    "logger = logging.getLogger(__name__)"
   ]
  },
  {
   "cell_type": "markdown",
   "metadata": {},
   "source": [
    "## Load Configuration\n",
    "\n",
    "Load configurations for LoRA and QLoRA fine-tuning."
   ]
  },
  {
   "cell_type": "code",
   "execution_count": null,
   "metadata": {},
   "outputs": [],
   "source": [
    "CONFIG_PATH = 'config/model_config.yaml'\n",
    "config = load_config(CONFIG_PATH)\n",
    "\n",
    "MODEL_NAME = config['base_model']['name']\n",
    "LORA_CONFIG = config['versions']['v1_lora']\n",
    "QLORA_CONFIG = config['versions']['v2_qlora']\n",
    "\n",
    "LORA_OUTPUT_DIR = 'models/v1_lora'\n",
    "QLORA_OUTPUT_DIR = 'models/v2_qlora'\n",
    "\n",
    "logger.info(f'Loading model: {MODEL_NAME}')"
   ]
  },
  {
   "cell_type": "markdown",
   "metadata": {},
   "source": [
    "## Load Dataset\n",
    "\n",
    "Load the synthetic dataset and prepare it for training."
   ]
  },
  {
   "cell_type": "code",
   "execution_count": null,
   "metadata": {},
   "outputs": [],
   "source": [
    "DATASET_PATH = 'data/synthetic/training_data.json'\n",
    "dataset = load_dataset('json', data_files=DATASET_PATH)\n",
    "\n",
    "train_val = dataset['train'].train_test_split(test_size=config['data']['val_split'])\n",
    "train_dataset = train_val['train']\n",
    "val_dataset = train_val['test']\n",
    "\n",
    "logger.info(f'Training dataset size: {len(train_dataset)}')\n",
    "logger.info(f'Validation dataset size: {len(val_dataset)}')"
   ]
  },
  {
   "cell_type": "markdown",
   "metadata": {},
   "source": [
    "## Load Model and Tokenizer\n",
    "\n",
    "Load the pre-trained model and tokenizer."
   ]
  },
  {
   "cell_type": "code",
   "execution_count": null,
   "metadata": {},
   "outputs": [],
   "source": [
    "tokenizer = AutoTokenizer.from_pretrained(MODEL_NAME, use_auth_token=config['base_model']['use_auth_token'])\n",
    "model = AutoModelForCausalLM.from_pretrained(MODEL_NAME, use_auth_token=config['base_model']['use_auth_token'])\n",
    "\n",
    "tokenizer.pad_token = tokenizer.eos_token\n",
    "model.config.pad_token_id = model.config.eos_token_id\n",
    "\n",
    "logger.info('Model and tokenizer loaded successfully')"
   ]
  },
  {
   "cell_type": "markdown",
   "metadata": {},
   "source": [
    "## Preprocess Dataset\n",
    "\n",
    "Tokenize the dataset for training."
   ]
  },
  {
   "cell_type": "code",
   "execution_count": null,
   "metadata": {},
   "outputs": [],
   "source": [
    "def preprocess_function(examples):\n",
    "    inputs = [f'Business Description: {ex} -> Domain: ' for ex in examples['input']]\n",
    "    targets = examples['output']\n",
    "    model_inputs = tokenizer(inputs, max_length=config['data']['max_input_length'], truncation=True, padding='max_length')\n",
    "    \n",
    "    with tokenizer.as_target_tokenizer():\n",
    "        labels = tokenizer(targets, max_length=config['data']['max_output_length'], truncation=True, padding='max_length')\n",
    "    \n",
    "    model_inputs['labels'] = labels['input_ids']\n",
    "    return model_inputs\n",
    "\n",
    "tokenized_train = train_dataset.map(preprocess_function, batched=True)\n",
    "tokenized_val = val_dataset.map(preprocess_function, batched=True)\n",
    "\n",
    "logger.info('Dataset preprocessing completed')"
   ]
  },
  {
   "cell_type": "markdown",
   "metadata": {},
   "source": [
    "## LoRA Fine-Tuning\n",
    "\n",
    "Configure and train the model with LoRA."
   ]
  },
  {
   "cell_type": "code",
   "execution_count": null,
   "metadata": {},
   "outputs": [],
   "source": [
    "# Configure LoRA\n",
    "lora_config = LoraConfig(\n",
    "    r=LORA_CONFIG['lora_config']['r'],\n",
    "    lora_alpha=LORA_CONFIG['lora_config']['lora_alpha'],\n",
    "    target_modules=LORA_CONFIG['lora_config']['target_modules'],\n",
    "    lora_dropout=LORA_CONFIG['lora_config']['lora_dropout'],\n",
    "    bias=LORA_CONFIG['lora_config']['bias'],\n",
    "    task_type=LORA_CONFIG['lora_config']['task_type']\n",
    ")\n",
    "\n",
    "lora_model = get_peft_model(model, lora_config)\n",
    "\n",
    "# Training arguments\n",
    "lora_training_args = TrainingArguments(\n",
    "    output_dir=LORA_OUTPUT_DIR,\n",
    "    num_train_epochs=LORA_CONFIG['num_epochs'],\n",
    "    per_device_train_batch_size=LORA_CONFIG['batch_size'],\n",
    "    per_device_eval_batch_size=LORA_CONFIG['batch_size'],\n",
    "    gradient_accumulation_steps=LORA_CONFIG['gradient_accumulation_steps'],\n",
    "    learning_rate=LORA_CONFIG['learning_rate'],\n",
    "    weight_decay=LORA_CONFIG['weight_decay'],\n",
    "    warmup_steps=LORA_CONFIG['warmup_steps'],\n",
    "    evaluation_strategy='steps',\n",
    "    eval_steps=LORA_CONFIG['eval_steps'],\n",
    "    save_steps=LORA_CONFIG['save_steps'],\n",
    "    logging_steps=LORA_CONFIG['logging_steps'],\n",
    "    fp16=config['hardware']['mixed_precision'] == 'fp16',\n",
    "    gradient_checkpointing=config['hardware']['gradient_checkpointing'],\n",
    "    save_total_limit=2,\n",
    "    report_to=['tensorboard']\n",
    ")\n",
    "\n",
    "# Initialize trainer\n",
    "lora_trainer = Trainer(\n",
    "    model=lora_model,\n",
    "    args=lora_training_args,\n",
    "    train_dataset=tokenized_train,\n",
    "    eval_dataset=tokenized_val\n",
    ")\n",
    "\n",
    "# Train model\n",
    "logger.info('Starting LoRA fine-tuning...')\n",
    "lora_trainer.train()\n",
    "lora_trainer.save_model(LORA_OUTPUT_DIR)\n",
    "tokenizer.save_pretrained(LORA_OUTPUT_DIR)\n",
    "logger.info(f'LoRA model saved to {LORA_OUTPUT_DIR}')"
   ]
  },
  {
   "cell_type": "markdown",
   "metadata": {},
   "source": [
    "## QLoRA Fine-Tuning\n",
    "\n",
    "Configure and train the model with QLoRA."
   ]
  },
  {
   "cell_type": "code",
   "execution_count": null,
   "metadata": {},
   "outputs": [],
   "source": [
    "from transformers import BitsAndBytesConfig\n",
    "\n",
    "# Configure quantization\n",
    "bnb_config = BitsAndBytesConfig(\n",
    "    load_in_4bit=True,\n",
    "    bnb_4bit_quant_type='nf4',\n",
    "    bnb_4bit_compute_dtype=torch.bfloat16,\n",
    "    bnb_4bit_use_double_quant=QLORA_CONFIG['qlora_config']['double_quant']\n",
    ")\n",
    "\n",
    "# Reload model with quantization\n",
    "qlora_model = AutoModelForCausalLM.from_pretrained(\n",
    "    MODEL_NAME,\n",
    "    quantization_config=bnb_config,\n",
    "    use_auth_token=config['base_model']['use_auth_token']\n",
    ")\n",
    "\n",
    "# Configure QLoRA\n",
    "qlora_config = LoraConfig(\n",
    "    r=QLORA_CONFIG['qlora_config']['r'],\n",
    "    lora_alpha=QLORA_CONFIG['qlora_config']['lora_alpha'],\n",
    "    target_modules=QLORA_CONFIG['qlora_config']['target_modules'],\n",
    "    lora_dropout=QLORA_CONFIG['qlora_config']['lora_dropout'],\n",
    "    bias=QLORA_CONFIG['qlora_config']['bias'],\n",
    "    task_type=QLORA_CONFIG['qlora_config']['task_type']\n",
    ")\n",
    "\n",
    "qlora_model = get_peft_model(qlora_model, qlora_config)\n",
    "\n",
    "# Training arguments\n",
    "qlora_training_args = TrainingArguments(\n",
    "    output_dir=QLORA_OUTPUT_DIR,\n",
    "    num_train_epochs=QLORA_CONFIG['num_epochs'],\n",
    "    per_device_train_batch_size=QLORA_CONFIG['batch_size'],\n",
    "    per_device_eval_batch_size=QLORA_CONFIG['batch_size'],\n",
    "    gradient_accumulation_steps=QLORA_CONFIG['gradient_accumulation_steps'],\n",
    "    learning_rate=QLORA_CONFIG['learning_rate'],\n",
    "    weight_decay=QLORA_CONFIG['weight_decay'],\n",
    "    warmup_steps=QLORA_CONFIG['warmup_steps'],\n",
    "    evaluation_strategy='steps',\n",
    "    eval_steps=QLORA_CONFIG['eval_steps'],\n",
    "    save_steps=QLORA_CONFIG['save_steps'],\n",
    "    logging_steps=QLORA_CONFIG['logging_steps'],\n",
    "    fp16=config['hardware']['mixed_precision'] == 'fp16',\n",
    "    gradient_checkpointing=config['hardware']['gradient_checkpointing'],\n",
    "    save_total_limit=2,\n",
    "    report_to=['tensorboard']\n",
    ")\n",
    "\n",
    "# Initialize trainer\n",
    "qlora_trainer = Trainer(\n",
    "    model=qlora_model,\n",
    "    args=qlora_training_args,\n",
    "    train_dataset=tokenized_train,\n",
    "    eval_dataset=tokenized_val\n",
    ")\n",
    "\n",
    "# Train model\n",
    "logger.info('Starting QLoRA fine-tuning...')\n",
    "qlora_trainer.train()\n",
    "qlora_trainer.save_model(QLORA_OUTPUT_DIR)\n",
    "tokenizer.save_pretrained(QLORA_OUTPUT_DIR)\n",
    "logger.info(f'QLoRA model saved to {QLORA_OUTPUT_DIR}')"
   ]
  },
  {
   "cell_type": "markdown",
   "metadata": {},
   "source": [
    "## Compare Model Versions\n",
    "\n",
    "Compare the performance of the baseline, LoRA, and QLoRA models."
   ]
  },
  {
   "cell_type": "code",
   "execution_count": null,
   "metadata": {},
   "outputs": [],
   "source": [
    "import pandas as pd\n",
    "\n",
    "def generate_domains(model, tokenizer, description, num_suggestions=3):\n",
    "    input_text = f'Business Description: {description} -> Domain: '\n",
    "    inputs = tokenizer(input_text, return_tensors='pt', padding=True).to(model.device)\n",
    "    outputs = model.generate(\n",
    "        **inputs,\n",
    "        max_length=config['generation']['max_length'],\n",
    "        num_return_sequences=num_suggestions,\n",
    "        temperature=config['generation']['temperature'],\n",
    "        top_p=config['generation']['top_p'],\n",
    "        do_sample=True\n",
    "    )\n",
    "    return [tokenizer.decode(output, skip_special_tokens=True).split('Domain: ')[-1] for output in outputs]\n",
    "\n",
    "sample_descriptions = [\n",
    "    'Professional consulting firm specializing in business optimization',\n",
    "    'Tech startup focused on AI solutions',\n",
    "    'Organic coffee shop in downtown area'\n",
    "]\n",
    "\n",
    "# Load baseline model\n",
    "baseline_model = AutoModelForCausalLM.from_pretrained('models/baseline')\n",
    "\n",
    "# Compare predictions\n",
    "results = []\n",
    "for desc in sample_descriptions:\n",
    "    baseline_domains = generate_domains(baseline_model, tokenizer, desc)\n",
    "    lora_domains = generate_domains(lora_model, tokenizer, desc)\n",
    "    qlora_domains = generate_domains(qlora_model, tokenizer, desc)\n",
    "    \n",
    "    results.append({\n",
    "        'Description': desc,\n",
    "        'Baseline': ', '.join(baseline_domains),\n",
    "        'LoRA': ', '.join(lora_domains),\n",
    "        'QLoRA': ', '.join(qlora_domains)\n",
    "    })\n",
    "\n",
    "# Display results\n",
    "results_df = pd.DataFrame(results)\n",
    "print(results_df)\n",
    "\n",
    "# Plot training metrics (assuming tensorboard logs)\n",
    "plt.figure(figsize=(10, 6))\n",
    "plt.plot(trainer.state.log_history['loss'], label='Baseline Loss')\n",
    "plt.plot(lora_trainer.state.log_history['loss'], label='LoRA Loss')\n",
    "plt.plot(qlora_trainer.state.log_history['loss'], label='QLoRA Loss')\n",
    "plt.xlabel('Training Steps')\n",
    "plt.ylabel('Loss')\n",
    "plt.legend()\n",
    "plt.title('Training Loss Comparison')\n",
    "plt.show()"
   ]
  },
  {
   "cell_type": "markdown",
   "metadata": {},
   "source": [
    "## Conclusion\n",
    "\n",
    "LoRA and QLoRA fine-tuning have improved model efficiency and performance. The QLoRA model shows the best results with reduced memory usage. The next step is to evaluate these models using the LLM-as-a-Judge framework."
   ]
  }
 ],
 "metadata": {
  "kernelspec": {
   "display_name": "Python 3",
   "language": "python",
   "name": "python3"
  },
  "language_info": {
   "codemirror_mode": {
    "name": "ipython",
    "version": 3
   },
   "file_extension": ".py",
   "mimetype": "text/x-python",
   "name": "python",
   "nbconvert_exporter": "python",
   "pygments_lexer": "ipython3",
   "version": "3.8.10"
  }
 },
 "nbformat": 4,
 "nbformat_minor": 4
}