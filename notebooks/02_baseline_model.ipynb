{
 "cells": [
  {
   "cell_type": "markdown",
   "metadata": {},
   "source": [
    "# Baseline Model Training\n",
    "\n",
    "This notebook trains a baseline model for the Domain Name Suggestion LLM using full fine-tuning on the synthetic dataset created in the previous notebook.\n",
    "\n",
    "## Objectives\n",
    "- Load the synthetic dataset.\n",
    "- Fine-tune an open-source LLM (e.g., LLaMA-7B) on the dataset.\n",
    "- Save model checkpoints and track performance.\n",
    "- Generate initial domain suggestions for evaluation.\n",
    "\n",
    "## Setup\n",
    "Ensure the environment is set up with GPU support and the necessary dependencies installed."
   ]
  },
  {
   "cell_type": "code",
   "execution_count": null,
   "metadata": {},
   "outputs": [],
   "source": [
    "import sys\n",
    "import os\n",
    "from pathlib import Path\n",
    "\n",
    "# Add src to path\n",
    "sys.path.append(str(Path.cwd().parent / 'src'))\n",
    "\n",
    "import torch\n",
    "from transformers import AutoModelForCausalLM, AutoTokenizer, TrainingArguments, Trainer\n",
    "from datasets import load_dataset\n",
    "from utils.config import load_config\n",
    "import logging\n",
    "\n",
    "# Setup logging\n",
    "logging.basicConfig(level=logging.INFO, format='%(asctime)s - %(name)s - %(levelname)s - %(message)s')\n",
    "logger = logging.getLogger(__name__)"
   ]
  },
  {
   "cell_type": "markdown",
   "metadata": {},
   "source": [
    "## Load Configuration\n",
    "\n",
    "Load the model configuration from `config/model_config.yaml`."
   ]
  },
  {
   "cell_type": "code",
   "execution_count": null,
   "metadata": {},
   "outputs": [],
   "source": [
    "CONFIG_PATH = 'config/model_config.yaml'\n",
    "config = load_config(CONFIG_PATH)\n",
    "\n",
    "MODEL_NAME = config['base_model']['name']\n",
    "TRAINING_CONFIG = config['versions']['baseline']\n",
    "OUTPUT_DIR = 'models/baseline'\n",
    "\n",
    "logger.info(f'Loading model: {MODEL_NAME}')\n",
    "logger.info(f'Output directory: {OUTPUT_DIR}')"
   ]
  },
  {
   "cell_type": "markdown",
   "metadata": {},
   "source": [
    "## Load Dataset\n",
    "\n",
    "Load the synthetic dataset and prepare it for training."
   ]
  },
  {
   "cell_type": "code",
   "execution_count": null,
   "metadata": {},
   "outputs": [],
   "source": [
    "DATASET_PATH = 'data/synthetic/training_data.json'\n",
    "dataset = load_dataset('json', data_files=DATASET_PATH)\n",
    "\n",
    "# Split dataset\n",
    "train_val = dataset['train'].train_test_split(test_size=config['data']['val_split'])\n",
    "train_dataset = train_val['train']\n",
    "val_dataset = train_val['test']\n",
    "\n",
    "logger.info(f'Training dataset size: {len(train_dataset)}')\n",
    "logger.info(f'Validation dataset size: {len(val_dataset)}')"
   ]
  },
  {
   "cell_type": "markdown",
   "metadata": {},
   "source": [
    "## Load Model and Tokenizer\n",
    "\n",
    "Load the pre-trained model and tokenizer."
   ]
  },
  {
   "cell_type": "code",
   "execution_count": null,
   "metadata": {},
   "outputs": [],
   "source": [
    "tokenizer = AutoTokenizer.from_pretrained(MODEL_NAME, use_auth_token=config['base_model']['use_auth_token'])\n",
    "model = AutoModelForCausalLM.from_pretrained(MODEL_NAME, use_auth_token=config['base_model']['use_auth_token'])\n",
    "\n",
    "# Set padding token\n",
    "tokenizer.pad_token = tokenizer.eos_token\n",
    "model.config.pad_token_id = model.config.eos_token_id\n",
    "\n",
    "logger.info('Model and tokenizer loaded successfully')"
   ]
  },
  {
   "cell_type": "markdown",
   "metadata": {},
   "source": [
    "## Preprocess Dataset\n",
    "\n",
    "Tokenize the dataset for training."
   ]
  },
  {
   "cell_type": "code",
   "execution_count": null,
   "metadata": {},
   "outputs": [],
   "source": [
    "def preprocess_function(examples):\n",
    "    inputs = [f'Business Description: {ex} -> Domain: ' for ex in examples['input']]\n",
    "    targets = examples['output']\n",
    "    model_inputs = tokenizer(inputs, max_length=config['data']['max_input_length'], truncation=True, padding='max_length')\n",
    "    \n",
    "    # Tokenize targets\n",
    "    with tokenizer.as_target_tokenizer():\n",
    "        labels = tokenizer(targets, max_length=config['data']['max_output_length'], truncation=True, padding='max_length')\n",
    "    \n",
    "    model_inputs['labels'] = labels['input_ids']\n",
    "    return model_inputs\n",
    "\n",
    "tokenized_train = train_dataset.map(preprocess_function, batched=True)\n",
    "tokenized_val = val_dataset.map(preprocess_function, batched=True)\n",
    "\n",
    "logger.info('Dataset preprocessing completed')"
   ]
  },
  {
   "cell_type": "markdown",
   "metadata": {},
   "source": [
    "## Setup Training\n",
    "\n",
    "Configure the training arguments and initialize the trainer."
   ]
  },
  {
   "cell_type": "code",
   "execution_count": null,
   "metadata": {},
   "outputs": [],
   "source": [
    "training_args = TrainingArguments(\n",
    "    output_dir=OUTPUT_DIR,\n",
    "    num_train_epochs=TRAINING_CONFIG['num_epochs'],\n",
    "    per_device_train_batch_size=TRAINING_CONFIG['batch_size'],\n",
    "    per_device_eval_batch_size=TRAINING_CONFIG['batch_size'],\n",
    "    gradient_accumulation_steps=TRAINING_CONFIG['gradient_accumulation_steps'],\n",
    "    learning_rate=TRAINING_CONFIG['learning_rate'],\n",
    "    weight_decay=TRAINING_CONFIG['weight_decay'],\n",
    "    warmup_steps=TRAINING_CONFIG['warmup_steps'],\n",
    "    evaluation_strategy='steps',\n",
    "    eval_steps=TRAINING_CONFIG['eval_steps'],\n",
    "    save_steps=TRAINING_CONFIG['save_steps'],\n",
    "    logging_steps=TRAINING_CONFIG['logging_steps'],\n",
    "    fp16=config['hardware']['mixed_precision'] == 'fp16',\n",
    "    gradient_checkpointing=config['hardware']['gradient_checkpointing'],\n",
    "    save_total_limit=2,\n",
    "    report_to=['tensorboard']\n",
    ")\n",
    "\n",
    "trainer = Trainer(\n",
    "    model=model,\n",
    "    args=training_args,\n",
    "    train_dataset=tokenized_train,\n",
    "    eval_dataset=tokenized_val\n",
    ")\n",
    "\n",
    "logger.info('Training configuration completed')"
   ]
  },
  {
   "cell_type": "markdown",
   "metadata": {},
   "source": [
    "## Train Model\n",
    "\n",
    "Start the training process and save checkpoints."
   ]
  },
  {
   "cell_type": "code",
   "execution_count": null,
   "metadata": {},
   "outputs": [],
   "source": [
    "logger.info('Starting model training...')\n",
    "trainer.train()\n",
    "trainer.save_model(OUTPUT_DIR)\n",
    "tokenizer.save_pretrained(OUTPUT_DIR)\n",
    "logger.info(f'Model and tokenizer saved to {OUTPUT_DIR}')"
   ]
  },
  {
   "cell_type": "markdown",
   "metadata": {},
   "source": [
    "## Generate Sample Predictions\n",
    "\n",
    "Test the trained model with sample business descriptions."
   ]
  },
  {
   "cell_type": "code",
   "execution_count": null,
   "metadata": {},
   "outputs": [],
   "source": [
    "def generate_domains(model, tokenizer, description, num_suggestions=3):\n",
    "    input_text = f'Business Description: {description} -> Domain: '\n",
    "    inputs = tokenizer(input_text, return_tensors='pt', padding=True).to(model.device)\n",
    "    outputs = model.generate(\n",
    "        **inputs,\n",
    "        max_length=config['generation']['max_length'],\n",
    "        num_return_sequences=num_suggestions,\n",
    "        temperature=config['generation']['temperature'],\n",
    "        top_p=config['generation']['top_p'],\n",
    "        do_sample=True\n",
    "    )\n",
    "    return [tokenizer.decode(output, skip_special_tokens=True).split('Domain: ')[-1] for output in outputs]\n",
    "\n",
    "sample_descriptions = [\n",
    "    'Professional consulting firm specializing in business optimization',\n",
    "    'Tech startup focused on AI solutions',\n",
    "    'Organic coffee shop in downtown area'\n",
    "]\n",
    "\n",
    "model.eval()\n",
    "for desc in sample_descriptions:\n",
    "    domains = generate_domains(model, tokenizer, desc)\n",
    "    print(f'\\nBusiness Description: {desc}')\n",
    "    print('Generated Domains:')\n",
    "    for i, domain in enumerate(domains, 1):\n",
    "        print(f'  {i}. {domain}')"
   ]
  },
  {
   "cell_type": "markdown",
   "metadata": {},
   "source": [
    "## Conclusion\n",
    "\n",
    "The baseline model has been successfully trained and can generate domain suggestions. The next steps include evaluating the model and iterating with LoRA/QLoRA fine-tuning."
   ]
  }
 ],
 "metadata": {
  "kernelspec": {
   "display_name": "Python 3",
   "language": "python",
   "name": "python3"
  },
  "language_info": {
   "codemirror_mode": {
    "name": "ipython",
    "version": 3
   },
   "file_extension": ".py",
   "mimetype": "text/x-python",
   "name": "python",
   "nbconvert_exporter": "python",
   "pygments_lexer": "ipython3",
   "version": "3.8.10"
  }
 },
 "nbformat": 4,
 "nbformat_minor": 4
}